{
 "cells": [
  {
   "cell_type": "markdown",
   "metadata": {
    "deletable": true,
    "editable": true
   },
   "source": [
    "# Self-Driving Car Engineer Nanodegree\n",
    "\n",
    "## Deep Learning\n",
    "\n",
    "## Project: Build a Traffic Sign Recognition Classifier\n",
    "\n",
    "In this notebook, a template is provided for you to implement your functionality in stages, which is required to successfully complete this project. If additional code is required that cannot be included in the notebook, be sure that the Python code is successfully imported and included in your submission if necessary. \n",
    "\n",
    "> **Note**: Once you have completed all of the code implementations, you need to finalize your work by exporting the iPython Notebook as an HTML document. Before exporting the notebook to html, all of the code cells need to have been run so that reviewers can see the final implementation and output. You can then export the notebook by using the menu above and navigating to  \\n\",\n",
    "    \"**File -> Download as -> HTML (.html)**. Include the finished document along with this notebook as your submission. \n",
    "\n",
    "In addition to implementing code, there is a writeup to complete. The writeup should be completed in a separate file, which can be either a markdown file or a pdf document. There is a [write up template](https://github.com/udacity/CarND-Traffic-Sign-Classifier-Project/blob/master/writeup_template.md) that can be used to guide the writing process. Completing the code template and writeup template will cover all of the [rubric points](https://review.udacity.com/#!/rubrics/481/view) for this project.\n",
    "\n",
    "The [rubric](https://review.udacity.com/#!/rubrics/481/view) contains \"Stand Out Suggestions\" for enhancing the project beyond the minimum requirements. The stand out suggestions are optional. If you decide to pursue the \"stand out suggestions\", you can include the code in this Ipython notebook and also discuss the results in the writeup file.\n",
    "\n",
    "\n",
    ">**Note:** Code and Markdown cells can be executed using the **Shift + Enter** keyboard shortcut. In addition, Markdown cells can be edited by typically double-clicking the cell to enter edit mode."
   ]
  },
  {
   "cell_type": "markdown",
   "metadata": {},
   "source": [
    "**DPR**:  Student remarks and answers are marked with the initials **DPR**.\n",
    "This variable AUGMENTED_DATASET_PENDING controls whether to apply data augmentation, or taking a previously augmented set from disk."
   ]
  },
  {
   "cell_type": "code",
   "execution_count": null,
   "metadata": {
    "collapsed": true
   },
   "outputs": [],
   "source": [
    "AUGMENTED_DATASET_PENDING = True"
   ]
  },
  {
   "cell_type": "markdown",
   "metadata": {
    "deletable": true,
    "editable": true
   },
   "source": [
    "---\n",
    "## Step 0: Load The Data"
   ]
  },
  {
   "cell_type": "code",
   "execution_count": null,
   "metadata": {
    "collapsed": false,
    "deletable": true,
    "editable": true
   },
   "outputs": [],
   "source": [
    "# Load pickled data\n",
    "import pickle\n",
    "import tensorflow as tf\n",
    "\n",
    "# TODO: Fill this in based on where you saved the training and testing data\n",
    "if AUGMENTED_DATASET_PENDING == True:\n",
    "    training_file = 'train.p'\n",
    "else:\n",
    "    training_file = 'train_augmented.p'\n",
    "    \n",
    "validation_file= 'valid.p'\n",
    "testing_file = 'test.p'\n",
    "\n",
    "with open(training_file, mode='rb') as f:\n",
    "    train = pickle.load(f)\n",
    "with open(validation_file, mode='rb') as f:\n",
    "    valid = pickle.load(f)\n",
    "with open(testing_file, mode='rb') as f:\n",
    "    test = pickle.load(f)\n",
    "    \n",
    "Xo_train, y_train = train['features'], train['labels']\n",
    "Xo_valid, y_valid = valid['features'], valid['labels']\n",
    "Xo_test, y_test = test['features'], test['labels']\n",
    "\n",
    "assert(len(Xo_train) == len(y_train))\n",
    "assert(len(Xo_valid) == len(y_valid))\n",
    "assert(len(Xo_test) == len(y_test))\n",
    "\n",
    "print()\n",
    "print(\"Image Shape: {}\".format(Xo_train[0].shape))\n",
    "print()\n",
    "print(\"Training Set:   {} samples\".format(len(Xo_train)))\n",
    "print(\"Validation Set: {} samples\".format(len(Xo_valid)))\n",
    "print(\"Test Set:       {} samples\".format(len(Xo_test)))"
   ]
  },
  {
   "cell_type": "markdown",
   "metadata": {
    "deletable": true,
    "editable": true
   },
   "source": [
    "---\n",
    "\n",
    "## Step 1: Dataset Summary & Exploration\n",
    "\n",
    "The pickled data is a dictionary with 4 key/value pairs:\n",
    "\n",
    "- `'features'` is a 4D array containing raw pixel data of the traffic sign images, (num examples, width, height, channels).\n",
    "- `'labels'` is a 1D array containing the label/class id of the traffic sign. The file `signnames.csv` contains id -> name mappings for each id.\n",
    "- `'sizes'` is a list containing tuples, (width, height) representing the original width and height the image.\n",
    "- `'coords'` is a list containing tuples, (x1, y1, x2, y2) representing coordinates of a bounding box around the sign in the image. **THESE COORDINATES ASSUME THE ORIGINAL IMAGE. THE PICKLED DATA CONTAINS RESIZED VERSIONS (32 by 32) OF THESE IMAGES**\n",
    "\n",
    "Complete the basic data summary below. Use python, numpy and/or pandas methods to calculate the data summary rather than hard coding the results. For example, the [pandas shape method](http://pandas.pydata.org/pandas-docs/stable/generated/pandas.DataFrame.shape.html) might be useful for calculating some of the summary results. "
   ]
  },
  {
   "cell_type": "markdown",
   "metadata": {
    "deletable": true,
    "editable": true
   },
   "source": [
    "### Provide a Basic Summary of the Data Set Using Python, Numpy and/or Pandas"
   ]
  },
  {
   "cell_type": "code",
   "execution_count": null,
   "metadata": {
    "collapsed": false,
    "deletable": true,
    "editable": true
   },
   "outputs": [],
   "source": [
    "### Replace each question mark with the appropriate value. \n",
    "### Use python, pandas or numpy methods rather than hard coding the results\n",
    "\n",
    "import numpy as np\n",
    "\n",
    "# TODO: Number of training examples\n",
    "n_train = len(Xo_train)\n",
    "\n",
    "# TODO: Number of testing examples.\n",
    "n_test = len(Xo_test)\n",
    "\n",
    "# TODO: What's the shape of an traffic sign image?\n",
    "image_shape = Xo_train.shape[1:]\n",
    "\n",
    "# TODO: How many unique classes/labels there are in the dataset.\n",
    "n_classes = len(np.unique(y_valid))\n",
    "\n",
    "print(\"Number of training examples =\", n_train)\n",
    "print(\"Number of testing examples =\", n_test)\n",
    "print(\"Image data shape =\", image_shape)\n",
    "print(\"Number of classes =\", n_classes)\n",
    "\n",
    "print(Xo_train.dtype)\n"
   ]
  },
  {
   "cell_type": "markdown",
   "metadata": {
    "deletable": true,
    "editable": true
   },
   "source": [
    "### Include an exploratory visualization of the dataset"
   ]
  },
  {
   "cell_type": "markdown",
   "metadata": {
    "deletable": true,
    "editable": true
   },
   "source": [
    "Visualize the German Traffic Signs Dataset using the pickled file(s). This is open ended, suggestions include: plotting traffic sign images, plotting the count of each sign, etc.\n",
    "\n",
    "The [Matplotlib](http://matplotlib.org/) [examples](http://matplotlib.org/examples/index.html) and [gallery](http://matplotlib.org/gallery.html) pages are a great resource for doing visualizations in Python.\n",
    "\n",
    "**NOTE:** It's recommended you start with something simple first. If you wish to do more, come back to it after you've completed the rest of the sections."
   ]
  },
  {
   "cell_type": "markdown",
   "metadata": {},
   "source": [
    "**DPR**: First, let's observe just one sample for each class."
   ]
  },
  {
   "cell_type": "code",
   "execution_count": null,
   "metadata": {
    "collapsed": false
   },
   "outputs": [],
   "source": [
    "import matplotlib.pyplot as plt\n",
    "import random\n",
    "\n",
    "# Visualizations will be shown in the notebook.\n",
    "%matplotlib inline\n",
    "\n",
    "plt.figure(figsize=(15,15))\n",
    "\n",
    "print(\"Showing the 1st image found in the X_train set for each class:\")\n",
    "\n",
    "print(n_train,n_classes)\n",
    "for i_class in range(n_classes):\n",
    "    for j in range(n_train):\n",
    "        if y_train[j] == i_class:\n",
    "            #print(j, \"class: \", i_class)\n",
    "            plt.subplot(10, 10, i_class+1)\n",
    "            plt.imshow(Xo_train[j])\n",
    "            break"
   ]
  },
  {
   "cell_type": "markdown",
   "metadata": {},
   "source": [
    "**DPR:** As we can see in the output above, there is a great variability in the illumination, framing, orientation and size conditions of the samples. This observations seem to be applicable to every class.  Images don't present a good quality nor resolution, which is normal taking into account that they seem obtained from real-life video sequences."
   ]
  },
  {
   "cell_type": "markdown",
   "metadata": {},
   "source": [
    "**DPR:** Now, let's observe a list of 50 random samples of any class chosen randomly:"
   ]
  },
  {
   "cell_type": "code",
   "execution_count": null,
   "metadata": {
    "collapsed": false
   },
   "outputs": [],
   "source": [
    "plt.figure(figsize=(15,15))\n",
    "\n",
    "print(\"Showing the 1st 50 images found in the X_train set for a random Class:\")\n",
    "\n",
    "index = random.randint(0,42)\n",
    "print(\"Class:\", index)\n",
    "list_class = [j for j in range(n_train) if y_train[j] == index]\n",
    "\n",
    "list_show = random.sample(list_class, 50)\n",
    "print(list_show)\n",
    "i=0\n",
    "for j in list_show:\n",
    "    plt.subplot(10,10,i+1)\n",
    "    plt.imshow(Xo_train[j])\n",
    "    i +=1\n"
   ]
  },
  {
   "cell_type": "markdown",
   "metadata": {},
   "source": [
    "**DPR:** If we execute the above cell several times, we can observe the aforementioned variability in the image conditions for any given class."
   ]
  },
  {
   "cell_type": "markdown",
   "metadata": {},
   "source": [
    "**DPR:** Next, we are going to analyse how the samples in the Training, Validation and Test sets are distributed per classes. To do show, let's plot the histogram of each Y set."
   ]
  },
  {
   "cell_type": "code",
   "execution_count": null,
   "metadata": {
    "collapsed": false,
    "deletable": true,
    "editable": true
   },
   "outputs": [],
   "source": [
    "### Data exploration visualization code goes here.\n",
    "### Feel free to use as many code cells as needed.\n",
    "import matplotlib.pyplot as plt\n",
    "# Visualizations will be shown in the notebook.\n",
    "%matplotlib inline\n",
    "\n",
    "fig,ax = plt.subplots()\n",
    "n, bins, patches = ax.hist(y_train, n_classes, histtype='bar')\n",
    "fig.tight_layout()\n",
    "plt.show()\n",
    "\n",
    "fig,ax = plt.subplots()\n",
    "n, bins, patches = ax.hist(y_valid, n_classes, histtype='bar')\n",
    "fig.tight_layout()\n",
    "plt.show()\n",
    "\n",
    "fig,ax = plt.subplots()\n",
    "n, bins, patches = ax.hist(y_test, n_classes, histtype='bar')\n",
    "fig.tight_layout()\n",
    "plt.show()"
   ]
  },
  {
   "cell_type": "markdown",
   "metadata": {},
   "source": [
    "**DPR:** A great dispersion is observed in the distribution of signals per classes. In the training set, some classes are represented by more than 2000 images, whilst some other classes are represented by just little more than one hundred. This situation could cause that our neural network is biased to better represented classes, and also that low-represented classes will have a poor classification performance.  To mitigate this, we will use data augmentation later, in a way that lower represented classes are favorized."
   ]
  },
  {
   "cell_type": "markdown",
   "metadata": {},
   "source": [
    "**DPR - NOTE**: When starting working with this project, I tried to follow the example shown in the lab by teacher David Silver, when he applied the LeNet-5 model, previously used with MNIST, to the Traffic Signs set. Astonishingly to me, in the videos he showed that LeNet achieved easily a 0.96 accuracy right-away.  However, reproducing the same steps, I could only obtain an accouracy of 0.88 aprox. Then, I noticed that the only difference is that for our project (February cohort) we are already given a Validation set (valid.p file), whereas in the video, David constructs the validation set by splitting the training set.\n",
    "\n",
    "It was my impression that a possible explanation is that the valid.p we are given now contained a more \"difficult\" set of samples that if just randomly obtaning the validation set from the training set. I did corroborate this impression by concatenaning the X_train and X_valid sets, and then splitting a 15% of the result for validation... Only doing this, the accuracy increased from 0.88 to 0.95, similar to the results shown in the video.\n",
    "\n",
    "** In any case, taking into account that we were required to get a minimum validation accuracy of 0.93, this obviously applies to the valid.p file that we are given, not any other set that we could construct. So, I have stuck to the valid.p given. **\n",
    "\n",
    "I thought that it was interesting to explain my observations here, nevertheless.\n",
    "Below we can observe how some classes are over/under represented in the validation set, respective to the training set.\n",
    "\n",
    "For example, we can see that class 40, has relatively 57% more samples in the Validation Set than compared to the Training set. Moreover, this class has few sample images in the training set, which will lead to poor classification performance for that class."
   ]
  },
  {
   "cell_type": "code",
   "execution_count": null,
   "metadata": {
    "collapsed": false,
    "deletable": true,
    "editable": true
   },
   "outputs": [],
   "source": [
    "# I want to analyze further the distribution of classes, in particular de ratio of representation of each class\n",
    "# in the training set vs. the representation of the class in the validation set.\n",
    "\n",
    "len_y_val = len(y_valid)\n",
    "ratio_val_train=[]\n",
    "n_train_samples_per_class =[]\n",
    "\n",
    "for i in range(n_classes):\n",
    "    n_train_samples_per_class.append((y_train == i).sum())\n",
    "    ratio_class_val = (y_valid == i).sum() / len(y_valid)\n",
    "    ratio_class_train = (n_train_samples_per_class[i]/ len(y_train))\n",
    "    ratio_val_train.append(ratio_class_val/ratio_class_train)\n",
    "    print(\"class\", i, ratio_class_train, \"ratio val/train: \", ratio_val_train[i])\n",
    "\n",
    "print(\"\\nMean, Std of ratio val/train:\", np.mean(ratio_val_train), np.std(ratio_val_train))\n"
   ]
  },
  {
   "cell_type": "markdown",
   "metadata": {},
   "source": [
    "## Data Augmentation on the Training Set."
   ]
  },
  {
   "cell_type": "markdown",
   "metadata": {},
   "source": [
    "**DPR:** I will augment the data by applying random Translation, Rotation and Shear to the training images.\n",
    "I will augment so that every class has at least 1000 samples. This means that some of the classes will not require augmentation, whilst others will have an important increase of samples.\n",
    "I will not augment the data in terms of brightness or contrast, I think the samples provide enough variability on that sense."
   ]
  },
  {
   "cell_type": "code",
   "execution_count": null,
   "metadata": {
    "collapsed": false
   },
   "outputs": [],
   "source": [
    "import math\n",
    "import cv2\n",
    "\n",
    "def transform_image(img, trans_var=5, ang_var=10, shear_var=5):\n",
    "    '''\n",
    "    This function transforms the input image based on a random uniform distribution applied to 3 different\n",
    "     transformation parameters: translation, rotation and shear(perspective shift).\n",
    "    img:       input image\n",
    "    trans_var: desired variation range for translation.\n",
    "    ang_var:   desired variation range for rotation.\n",
    "    shear_var: desired variation range for shear.\n",
    "\n",
    "    Returns: transformed image of the same size as the input.\n",
    "\n",
    "    '''\n",
    "    # Calculate random angle and Matrix for Rotation.\n",
    "    ang_rot = np.random.uniform(ang_var)-ang_var/2\n",
    "    rows,cols,ch = img.shape    \n",
    "    Rot_M = cv2.getRotationMatrix2D((cols/2,rows/2),ang_rot,1)\n",
    "\n",
    "    # Calculate random values for x,y translation and Matrix for Translation.\n",
    "    tr_x = trans_var*np.random.uniform()-trans_var/2\n",
    "    tr_y = trans_var*np.random.uniform()-trans_var/2\n",
    "    Trans_M = np.float32([[1,0,tr_x],[0,1,tr_y]])\n",
    "\n",
    "    # Calculate perspective points and Matrix for Shear.\n",
    "    pts1 = np.float32([[5,5],[20,5],[5,20]])\n",
    "    pt1 = 5+shear_var*np.random.uniform()-shear_var/2\n",
    "    pt2 = 20+shear_var*np.random.uniform()-shear_var/2\n",
    "    pts2 = np.float32([[pt1,5],[pt2,pt1],[5,pt2]])\n",
    "    shear_M = cv2.getAffineTransform(pts1,pts2)\n",
    "\n",
    "    # We apply cv2 warpAffine function with the 3 previously calculating matrices.\n",
    "    img = cv2.warpAffine(img,Rot_M,(cols,rows))\n",
    "    img = cv2.warpAffine(img,Trans_M,(cols,rows))\n",
    "    img = cv2.warpAffine(img,shear_M,(cols,rows))\n",
    "\n",
    "    return img\n",
    "\n",
    "\n",
    "MIN_SAMPLES_PER_CLASS = 1000\n",
    "\n",
    "def augment_training_dataset(X, y, n_classes):\n",
    "    \n",
    "    initial_train_images = len(X)\n",
    "    \n",
    "    n_train_samples_per_class =[]\n",
    "\n",
    "    for i in range(n_classes):\n",
    "        n_train_samples_per_class.append((y == i).sum())\n",
    "\n",
    "    X_ext_list = []\n",
    "    y_aug = []\n",
    "    for i_class in range(n_classes):\n",
    "        print(\"processing class\", i_class)\n",
    "        if(n_train_samples_per_class[i_class] < MIN_SAMPLES_PER_CLASS):\n",
    "            \n",
    "            image_multiplier = math.ceil(MIN_SAMPLES_PER_CLASS / n_train_samples_per_class[i_class])\n",
    "            #print(\"Class \", i_class, \"mult: \", image_multiplier)\n",
    "            \n",
    "            for j in range(initial_train_images):\n",
    "                if(y[j] == i_class):\n",
    "                    #print(\"looping class:\", i_class, \"image index:\", j)\n",
    "                    for n_new in range(image_multiplier-1):\n",
    "                        #print(\"adding new image number\", n_new,\"based on image#\",j,\"to class\", i_class)\n",
    "                        #print(X[j].shape)\n",
    "                        img = transform_image(X[j])\n",
    "                        #img = img.reshape(1,32,32,3)\n",
    "                        X_ext_list.append(img)\n",
    "                        #Xo_train = np.concatenate((X,img), axis = 0)\n",
    "                        #print(X.shape)\n",
    "                        y_aug.append(i_class)\n",
    "    \n",
    "    X_ext_np = np.array(X_ext_list)\n",
    "    y_aug_np = np.array(y_aug)\n",
    "\n",
    "    Xaug = np.concatenate((X,X_ext_np), axis=0)\n",
    "    y_aug = np.concatenate((y,y_aug_np), axis=0)\n",
    "    return Xaug, y_aug\n",
    "\n",
    "\n",
    "def save_augmented_dataset(X, y):\n",
    "    #save the X train data set augmented\n",
    "    train_augmented_file = \"./train_augmented.p\" \n",
    "    output = open(train_augmented_file, 'wb')\n",
    "\n",
    "    mydict = {'features': 1, 'labels': 2}\n",
    "    mydict['features'] = X\n",
    "    mydict['labels'] = y\n",
    "    pickle.dump(mydict, output)\n",
    "    output.close()\n",
    "                        \n",
    "                        \n",
    "if AUGMENTED_DATASET_PENDING:\n",
    "    Xo_train, y_train = augment_training_dataset(Xo_train, y_train, n_classes)\n",
    "    print(\"new X:\",len(Xo_train))\n",
    "    print(\"new y:\",len(y_train))\n",
    "    save_augmented_dataset(Xo_train, y_train)\n",
    "    print(\"Augmented Training set saved to disk\")\n",
    "    print(\"This is the new histogram of the augmented Training Set:\")\n",
    "    \n",
    "    fig,ax = plt.subplots()\n",
    "    n, bins, patches = ax.hist(y_train, n_classes, histtype='bar')\n",
    "    fig.tight_layout()\n",
    "    plt.show()\n",
    "    \n",
    "else:\n",
    "    print(\"Augmented Training set already loaded\")\n",
    "\n"
   ]
  },
  {
   "cell_type": "markdown",
   "metadata": {},
   "source": [
    "**DPR:** Let's illustrate how the Augmentation algorithm would work for a random image:"
   ]
  },
  {
   "cell_type": "code",
   "execution_count": null,
   "metadata": {
    "collapsed": false
   },
   "outputs": [],
   "source": [
    "import matplotlib.pyplot as plt\n",
    "import random\n",
    "\n",
    "# Visualizations will be shown in the notebook.\n",
    "%matplotlib inline\n",
    "\n",
    "plt.figure(figsize=(15,15))\n",
    "index = random.randint(0,34798)\n",
    "plt.subplot(10, 10, 1)\n",
    "plt.imshow(Xo_train[index])\n",
    "\n",
    "for i in range(2,11):\n",
    "    plt.subplot(10, 10, i)\n",
    "    img = transform_image(Xo_train[index], trans_var=5, ang_var=10, shear_var=5)\n",
    "    plt.imshow(img)\n",
    "    plt.axis('off')\n",
    "\n",
    "    \n",
    "print(\"First image shown below is original, followed by 10 randomly augmented transformations\")"
   ]
  },
  {
   "cell_type": "markdown",
   "metadata": {
    "deletable": true,
    "editable": true
   },
   "source": [
    "----\n",
    "\n",
    "## Step 2: Design and Test a Model Architecture\n",
    "\n",
    "Design and implement a deep learning model that learns to recognize traffic signs. Train and test your model on the [German Traffic Sign Dataset](http://benchmark.ini.rub.de/?section=gtsrb&subsection=dataset).\n",
    "\n",
    "The LeNet-5 implementation shown in the [classroom](https://classroom.udacity.com/nanodegrees/nd013/parts/fbf77062-5703-404e-b60c-95b78b2f3f9e/modules/6df7ae49-c61c-4bb2-a23e-6527e69209ec/lessons/601ae704-1035-4287-8b11-e2c2716217ad/concepts/d4aca031-508f-4e0b-b493-e7b706120f81) at the end of the CNN lesson is a solid starting point. You'll have to change the number of classes and possibly the preprocessing, but aside from that it's plug and play! \n",
    "\n",
    "With the LeNet-5 solution from the lecture, you should expect a validation set accuracy of about 0.89. To meet specifications, the validation set accuracy will need to be at least 0.93. It is possible to get an even higher accuracy, but 0.93 is the minimum for a successful project submission. \n",
    "\n",
    "There are various aspects to consider when thinking about this problem:\n",
    "\n",
    "- Neural network architecture (is the network over or underfitting?)\n",
    "- Play around preprocessing techniques (normalization, rgb to grayscale, etc)\n",
    "- Number of examples per label (some have more than others).\n",
    "- Generate fake data.\n",
    "\n",
    "Here is an example of a [published baseline model on this problem](http://yann.lecun.com/exdb/publis/pdf/sermanet-ijcnn-11.pdf). It's not required to be familiar with the approach used in the paper but, it's good practice to try to read papers like these."
   ]
  },
  {
   "cell_type": "markdown",
   "metadata": {
    "deletable": true,
    "editable": true
   },
   "source": [
    "### Pre-process the Data Set (normalization, grayscale, etc.)"
   ]
  },
  {
   "cell_type": "markdown",
   "metadata": {
    "deletable": true,
    "editable": true
   },
   "source": [
    "Use the code cell (or multiple code cells, if necessary) to implement the first step of your project."
   ]
  },
  {
   "cell_type": "code",
   "execution_count": null,
   "metadata": {
    "collapsed": false,
    "deletable": true,
    "editable": true
   },
   "outputs": [],
   "source": [
    "### Preprocess the data here. Preprocessing steps could include normalization, converting to grayscale, etc.\n",
    "### Feel free to use as many code cells as needed.\n",
    "\n",
    "# For now, we are going to implement the LeNet Architecture, without normalization\n",
    "# Only shuffling the data\n",
    "\n",
    "from sklearn.utils import shuffle\n",
    "import cv2\n",
    "\n",
    "#Xo_train, y_train = shuffle(Xo_train, y_train)\n",
    "\n",
    "\n",
    "print(\"Starting normalization...please wait. It takes few seconds\")\n",
    "print(Xo_train.shape)\n",
    "\n",
    "mRGB2YUV = np.array ( [[0.299, 0.587, 0.114], \n",
    "            [-0.14713, -0.28886, 0.436], \n",
    "            [0.615, -0.51499, -0.10001]] )\n",
    "\n",
    "Xyuv_train = np.dot(Xo_train, mRGB2YUV.T)\n",
    "Xyuv_valid = np.dot(Xo_valid, mRGB2YUV.T)\n",
    "Xyuv_test  = np.dot(Xo_test, mRGB2YUV.T)\n",
    "\n",
    "#Xo_train = (.299*Xo_train[:,:,:,0] + .587*Xo_train[:,:,:,1] + .114*Xo_train[:,:,:,2])\n",
    "#Xo_valid = (.299*Xo_valid[:,:,:,0] + .587*Xo_valid[:,:,:,1] + .114*Xo_valid[:,:,:,2])\n",
    "#Xo_test = (.299*Xo_test[:,:,:,0] + .587*Xo_test[:,:,:,1] + .114*Xo_test[:,:,:,2])\n",
    "\n",
    "#Reshape the data for tensorflow\n",
    "#Xo_train = Xo_train.reshape(Xo_train.shape+(1,))\n",
    "#Xo_valid = Xo_valid.reshape(Xo_valid.shape+(1,))\n",
    "#Xo_test = Xo_test.reshape(Xo_test.shape+(1,))\n",
    "\n",
    "\n",
    "\n",
    "#\n",
    "#Xo_train = Xo_train.astype('float64')\n",
    "#Xo_valid = Xo_valid.astype('float64')\n",
    "#Xo_test = Xo_test.astype('float64')\n",
    "#\n",
    "def normalize_image_array(img, nchannels):\n",
    "    if nchannels == 1:\n",
    "        for index in range(len(img)):\n",
    "            img[index,:,:] -= np.mean(img[index,:,:])\n",
    "            img[index,:,:] /= np.std(img[index,:,:])\n",
    "    else:\n",
    "        for index in range(len(img)):\n",
    "            for channel in range(nchannels):  \n",
    "                img[index,:,:,channel] -= np.mean(img[index,:,:,channel])\n",
    "                img[index,:,:,channel] /= np.std(img[index,:,:,channel])\n",
    "    \n",
    "                \n",
    "def normalize_image_array_simple(img):\n",
    "    norm_img = (img.astype('float64') - 128.0) / 255.0\n",
    "    return norm_img\n",
    "\n",
    "\n",
    "\n",
    "Xy_train = Xyuv_train[:,:,:,0]\n",
    "Xy_valid = Xyuv_valid[:,:,:,0]\n",
    "Xy_test = Xyuv_test[:,:,:,0]\n",
    "\n",
    "#print(\"STD:\", np.std(Xy_train[0,:,:]))\n",
    "\n",
    "for i in range(len(Xy_train)):\n",
    "    Xy_train[i,:,:]  = cv2.equalizeHist(Xy_train[i,:,:].astype(np.uint8))\n",
    "    #Xy_train[i,:,:,1]  = cv2.equalizeHist(Xy_train[i,:,:,1].astype(np.uint8))\n",
    "    #Xy_train[i,:,:,2]  = cv2.equalizeHist(Xy_train[i,:,:,2].astype(np.uint8))\n",
    "    \n",
    "for i in range(len(Xy_valid)):\n",
    "    Xy_valid[i,:,:]  = cv2.equalizeHist(Xy_valid[i,:,:].astype(np.uint8))\n",
    "    #Xy_valid[i,:,:,1]  = cv2.equalizeHist(Xy_valid[i,:,:,1].astype(np.uint8))\n",
    "    #Xy_valid[i,:,:,2]  = cv2.equalizeHist(Xy_valid[i,:,:,2].astype(np.uint8))\n",
    "    \n",
    "for i in range(len(Xy_test)):\n",
    "    Xy_test[i,:,:]  = cv2.equalizeHist(Xy_test[i,:,:].astype(np.uint8))\n",
    "    #Xy_test[i,:,:,1]  = cv2.equalizeHist(Xy_test[i,:,:,1].astype(np.uint8))\n",
    "    #Xy_test[i,:,:,2]  = cv2.equalizeHist(Xy_test[i,:,:,2].astype(np.uint8))\n",
    "\n",
    "#print(Xy_train.dtype)\n",
    "#print(\"STD:\", np.std(Xy_train[0,:,:]))\n",
    "#print(\"STD:\", np.std(X_train[0,:,:,1]))\n",
    "#print(\"STD:\", np.std(X_train[0,:,:,2]))\n",
    "\n",
    "normalize_image_array(Xy_train,1)\n",
    "normalize_image_array(Xy_valid,1)\n",
    "normalize_image_array(Xy_test,1)\n",
    "\n",
    "#print(\"STD:\", np.std(Xy_train[0,:,:]))\n",
    "\n",
    "print(Xy_train.shape)\n",
    "\n",
    "X_train = Xy_train\n",
    "X_valid = Xy_valid\n",
    "X_test = Xy_test\n",
    "\n",
    "X_train = X_train.reshape(X_train.shape+(1,))\n",
    "X_valid = X_valid.reshape(X_valid.shape+(1,))\n",
    "X_test = X_test.reshape(X_test.shape+(1,))\n",
    "\n",
    "#print(\"STD:\", np.std(X_train[0,:,:,0]))\n",
    "#print(\"STD:\", np.std(X_train[0,:,:,1]))\n",
    "#print(\"STD:\", np.std(X_train[0,:,:,2]))\n",
    "\n",
    "print(X_train.shape)\n",
    "print(\"Normalization finished!.\")\n",
    "\n",
    "\n",
    "X_train, y_train = shuffle(X_train, y_train)"
   ]
  },
  {
   "cell_type": "markdown",
   "metadata": {},
   "source": [
    "**DPR**: Let's see the results, for the same list of images that we saw at the begining:"
   ]
  },
  {
   "cell_type": "code",
   "execution_count": null,
   "metadata": {
    "collapsed": false
   },
   "outputs": [],
   "source": [
    "import matplotlib.pyplot as plt\n",
    "import random\n",
    "\n",
    "# Visualizations will be shown in the notebook.\n",
    "%matplotlib inline\n",
    "\n",
    "index = random.randint(0,len(X_valid))\n",
    "\n",
    "plt.figure()\n",
    "plt.imshow(Xo_valid[index])\n",
    "plt.title(\"before normalizing\")\n",
    "plt.figure()\n",
    "plt.imshow(X_valid[index,:,:].reshape(32,32), cmap='gray')\n",
    "plt.title(\"after normalizing\")"
   ]
  },
  {
   "cell_type": "markdown",
   "metadata": {
    "deletable": true,
    "editable": true
   },
   "source": [
    "### Model Architecture Hyperparameters"
   ]
  },
  {
   "cell_type": "markdown",
   "metadata": {},
   "source": [
    "**DPR**: Hyperparameters:  A value between 25 and 30 Epochs seems to work well with my model, reaching almost a 99.9% training accuracy with almost 98% validation accuracy and 95-96% Test accuracy.\n",
    "\n",
    "Decreasing slightly the default learning rate from 0.001 to 0.00095 seemed to improve the results.\n",
    "\n",
    "I have tried to apply an exponentially decreasing learning rate, but this seems not to have much effect with the AdamOptimizer, that converges much faster than simple Gradient Descent, and seems to manage the learning rate adapting internally."
   ]
  },
  {
   "cell_type": "code",
   "execution_count": null,
   "metadata": {
    "collapsed": false,
    "deletable": true,
    "editable": true
   },
   "outputs": [],
   "source": [
    "import tensorflow as tf\n",
    "\n",
    "EPOCHS = 30\n",
    "BATCH_SIZE = 128\n",
    "\n",
    "RATE = 0.00095\n",
    "\n",
    "KEEP_DROPOUT = 0.5"
   ]
  },
  {
   "cell_type": "markdown",
   "metadata": {
    "deletable": true,
    "editable": true
   },
   "source": [
    "### Model Architecture"
   ]
  },
  {
   "cell_type": "markdown",
   "metadata": {},
   "source": [
    "**DPR:** My Architecture (MyLeNet) is based basically on the LeNet-5 used in the class lab, introducing the following modifications:\n",
    " - Increasing L1 output size from 6 to 12.\n",
    " - Increasing L2 output size from 16 to 32.\n",
    " - Modified following layers accordingly to the new L1, L2 sizes.\n",
    " - Introducing Dropout in training phase, betweeb the FC layers, with a 0.5 probability, that worked better than 0.25 or 0.75.\n",
    "\n",
    "I also experimented with other enhancements, like adding a new convolutional or fully connected layer, increasing FC layer feature sizes, and even introducing the concept of multi-connected conv layers (concatenating the flattened output of conv1 to the FC0 layer. However, none of these changes improved the results, so I removed them and kept the simple design."
   ]
  },
  {
   "cell_type": "code",
   "execution_count": null,
   "metadata": {
    "collapsed": false,
    "deletable": true,
    "editable": true
   },
   "outputs": [],
   "source": [
    "### Define your architecture here.\n",
    "### Feel free to use as many code cells as needed.\n",
    "\n",
    "from tensorflow.contrib.layers import flatten\n",
    "\n",
    "def MyLeNet(x, keep_prob):    \n",
    "    # Arguments used for tf.truncated_normal, randomly defines variables for the weights and biases for each layer\n",
    "    mu = 0\n",
    "    sigma = 0.1\n",
    "    \n",
    "    L1_OUTPUT_SIZE = 12\n",
    "    L2_OUTPUT_SIZE = 32\n",
    "    \n",
    "    # Layer 1: Convolutional. Input = 32x32x1. Output = 28x28xL1_OUTPUT_SIZE.\n",
    "    conv1_W = tf.Variable(tf.truncated_normal(shape=(5, 5, 1, L1_OUTPUT_SIZE), mean = mu, stddev = sigma))\n",
    "    conv1_b = tf.Variable(tf.zeros(L1_OUTPUT_SIZE))\n",
    "    conv1   = tf.nn.conv2d(x, conv1_W, strides=[1, 1, 1, 1], padding='VALID') + conv1_b\n",
    "    \n",
    "    # Layer 1 Activation.\n",
    "    #conv1_relu = tf.Variable(tf.zeros(shape=(BATCH_SIZE,28,28,L1_OUTPUT_SIZE)))\n",
    "    conv1_relu = tf.nn.relu(conv1, name=\"conv1_relu\")\n",
    "\n",
    "    # Layer 1 Pooling. Input = 28x28x L1_OUTPUT_SIZE. Output = 14x14x L1_OUTPUT_SIZE.\n",
    "    conv1 = tf.nn.max_pool(conv1_relu, ksize=[1, 2, 2, 1], strides=[1, 2, 2, 1], padding='VALID')\n",
    "    \n",
    "    \n",
    "    # Layer 2: Convolutional. Output = 10x10xL2_OUTPUT_SIZE.\n",
    "    conv2_W = tf.Variable(tf.truncated_normal(shape=(5, 5, L1_OUTPUT_SIZE, L2_OUTPUT_SIZE), mean = mu, stddev = sigma))\n",
    "    conv2_b = tf.Variable(tf.zeros(L2_OUTPUT_SIZE))\n",
    "    conv2   = tf.nn.conv2d(conv1, conv2_W, strides=[1, 1, 1, 1], padding='VALID') + conv2_b\n",
    "    \n",
    "    # Layer 2 Activation.\n",
    "    #conv2_relu = tf.Variable(tf.zeros(shape=(BATCH_SIZE,10,10,L2_OUTPUT_SIZE)))\n",
    "    conv2_relu = tf.nn.relu(conv2, name=\"conv2_relu\")\n",
    "\n",
    "    # Layer 2 Pooling. Input = 10x10xL2_OUTPUT_SIZE. Output = 5x5xL2_OUTPUT_SIZE.\n",
    "    conv2 = tf.nn.max_pool(conv2_relu, ksize=[1, 2, 2, 1], strides=[1, 2, 2, 1], padding='VALID')\n",
    "\n",
    "    # Layer 2 Flatten. Input = 5x5xL2_OUTPUT_SIZE. Output = 800.\n",
    "    fc0   = flatten(conv2)\n",
    "    \n",
    "    ######################\n",
    "    FC1_OUTPUT_SIZE = 120\n",
    "    FC2_OUTPUT_SIZE = 84\n",
    "    FC3_OUTPUT_SIZE = 43\n",
    "    ######################\n",
    "    \n",
    "    \n",
    "    # Layer 3: Fully Connected. Input = 800. Output = FC1_OUTPUT_SIZE.\n",
    "    fc1_W = tf.Variable(tf.truncated_normal(shape=(800, FC1_OUTPUT_SIZE), mean = mu, stddev = sigma))\n",
    "    fc1_b = tf.Variable(tf.zeros(FC1_OUTPUT_SIZE))\n",
    "    fc1   = tf.matmul(fc0, fc1_W) + fc1_b\n",
    "\n",
    "    \n",
    "    # Layer 3 Activation.\n",
    "    fc1    = tf.nn.relu(fc1)\n",
    "    \n",
    "    # Layer 3 Drop-out\n",
    "    fc1 = tf.nn.dropout(fc1, keep_prob)\n",
    "\n",
    "    # Layer 4: Fully Connected. Input = FC1_OUTPUT_SIZE. Output = FC2_OUTPUT_SIZE.\n",
    "    fc2_W  = tf.Variable(tf.truncated_normal(shape=(FC1_OUTPUT_SIZE, FC2_OUTPUT_SIZE), mean = mu, stddev = sigma))\n",
    "    fc2_b  = tf.Variable(tf.zeros(FC2_OUTPUT_SIZE))\n",
    "    fc2    = tf.matmul(fc1, fc2_W) + fc2_b\n",
    "    \n",
    "    # Layer 4 Activation.\n",
    "    fc2    = tf.nn.relu(fc2)\n",
    "    \n",
    "    # Layer 4 Drop-out\n",
    "    fc2 = tf.nn.dropout(fc2, keep_prob)\n",
    "\n",
    "    # Layer 5: Fully Connected. Input = FC2_OUTPUT_SIZE. Output = FC3_OUTPUT_SIZE.\n",
    "    fc3_W  = tf.Variable(tf.truncated_normal(shape=(FC2_OUTPUT_SIZE, FC3_OUTPUT_SIZE), mean = mu, stddev = sigma))\n",
    "    fc3_b  = tf.Variable(tf.zeros(FC3_OUTPUT_SIZE))\n",
    "    logits = tf.matmul(fc2, fc3_W) + fc3_b\n",
    "    \n",
    "    # Layer 5 Activation.\n",
    "    #fc3    = tf.nn.relu(fc3)\n",
    "    \n",
    "    # Layer 5 Drop-out\n",
    "    #fc3 = tf.nn.dropout(fc3, keep_prob)\n",
    "    \n",
    "    # Layer 5: Fully Connected. Input = FC3_OUTPUT_SIZE. Output = n_classes.\n",
    "    #fc4_W  = tf.Variable(tf.truncated_normal(shape=(FC3_OUTPUT_SIZE, n_classes), mean = mu, stddev = sigma))\n",
    "    #fc4_b  = tf.Variable(tf.zeros(n_classes))\n",
    "    #logits = tf.matmul(fc3, fc4_W) + fc4_b\n",
    "    \n",
    "    return logits, conv1_relu, conv2_relu"
   ]
  },
  {
   "cell_type": "markdown",
   "metadata": {
    "deletable": true,
    "editable": true
   },
   "source": [
    "### Features and Labels"
   ]
  },
  {
   "cell_type": "code",
   "execution_count": null,
   "metadata": {
    "collapsed": true,
    "deletable": true,
    "editable": true
   },
   "outputs": [],
   "source": [
    "x = tf.placeholder(tf.float32, (None, 32, 32, 1))\n",
    "y = tf.placeholder(tf.int32, (None))\n",
    "keep_prob = tf.placeholder(tf.float32)\n",
    "one_hot_y = tf.one_hot(y, 43)"
   ]
  },
  {
   "cell_type": "markdown",
   "metadata": {
    "deletable": true,
    "editable": true
   },
   "source": [
    "### Training Pipeline"
   ]
  },
  {
   "cell_type": "markdown",
   "metadata": {},
   "source": [
    "**DPR**: As explained before, I experimented with a exponential decay applied to the learning rate... A small decay factor or 0.99 seemed to work best. Actually, I haven't observed a real improvement with respect of using a fixed learning rate, so I think this doesn't make much sense when using the TF AdamOptimizer.  It may  have made much more sense if using a regular Gradient Descent optimizer, but that is much slower."
   ]
  },
  {
   "cell_type": "code",
   "execution_count": null,
   "metadata": {
    "collapsed": false,
    "deletable": true,
    "editable": true
   },
   "outputs": [],
   "source": [
    "logits, conv1_relu, conv2_relu = MyLeNet(x, keep_prob)\n",
    "\n",
    "cross_entropy = tf.nn.softmax_cross_entropy_with_logits(logits= logits, labels= one_hot_y)\n",
    "loss_operation = tf.reduce_mean(cross_entropy)\n",
    "\n",
    "##inserted\n",
    "batch = tf.Variable(0, trainable=False)\n",
    "starter_learning_rate = RATE\n",
    "learning_rate = tf.train.exponential_decay(starter_learning_rate, batch * BATCH_SIZE, 34799, 0.99, staircase=True)\n",
    "##end_insertado\n",
    "\n",
    "#optimizer = tf.train.AdamOptimizer(learning_rate = RATE)\n",
    "optimizer = tf.train.AdamOptimizer(learning_rate = learning_rate)\n",
    "#training_operation = optimizer.minimize(loss_operation)\n",
    "training_operation = optimizer.minimize(loss_operation, global_step = batch)\n"
   ]
  },
  {
   "cell_type": "markdown",
   "metadata": {
    "deletable": true,
    "editable": true
   },
   "source": [
    "## Train, Validate and Test the Model"
   ]
  },
  {
   "cell_type": "markdown",
   "metadata": {
    "deletable": true,
    "editable": true
   },
   "source": [
    "A validation set can be used to assess how well the model is performing. A low accuracy on the training and validation\n",
    "sets imply underfitting. A high accuracy on the training set but low accuracy on the validation set implies overfitting."
   ]
  },
  {
   "cell_type": "code",
   "execution_count": null,
   "metadata": {
    "collapsed": true,
    "deletable": true,
    "editable": true
   },
   "outputs": [],
   "source": [
    "### Train your model here.\n",
    "### Calculate and report the accuracy on the training and validation set.\n",
    "### Once a final model architecture is selected, \n",
    "### the accuracy on the test set should be calculated and reported as well.\n",
    "### Feel free to use as many code cells as needed."
   ]
  },
  {
   "cell_type": "markdown",
   "metadata": {
    "deletable": true,
    "editable": true
   },
   "source": [
    "### Model Evaluation"
   ]
  },
  {
   "cell_type": "code",
   "execution_count": null,
   "metadata": {
    "collapsed": false,
    "deletable": true,
    "editable": true
   },
   "outputs": [],
   "source": [
    "actual_prediction = tf.argmax(logits, 1)\n",
    "correct_prediction = tf.equal(actual_prediction, tf.argmax(one_hot_y, 1))\n",
    "accuracy_operation = tf.reduce_mean(tf.cast(correct_prediction, tf.float32))\n",
    "\n",
    "saver = tf.train.Saver()\n",
    "\n",
    "def evaluate(X_data, y_data):\n",
    "    num_examples = len(X_data)\n",
    "    total_accuracy = 0\n",
    "    sess = tf.get_default_session()\n",
    "    for offset in range(0, num_examples, BATCH_SIZE):\n",
    "        batch_x, batch_y = X_data[offset:offset+BATCH_SIZE], y_data[offset:offset+BATCH_SIZE]\n",
    "        accuracy = sess.run(accuracy_operation, feed_dict={x: batch_x, y: batch_y, keep_prob: 1.0})\n",
    "        total_accuracy += (accuracy * len(batch_x))\n",
    "    return total_accuracy / num_examples"
   ]
  },
  {
   "cell_type": "markdown",
   "metadata": {
    "deletable": true,
    "editable": true
   },
   "source": [
    "### Train the Model"
   ]
  },
  {
   "cell_type": "code",
   "execution_count": null,
   "metadata": {
    "collapsed": false,
    "deletable": true,
    "editable": true,
    "scrolled": false
   },
   "outputs": [],
   "source": [
    "with tf.Session() as sess:\n",
    "    sess.run(tf.global_variables_initializer())\n",
    "    num_examples = len(X_train)\n",
    "    \n",
    "    print(\"Training...\")\n",
    "    print()\n",
    "    for i in range(EPOCHS):\n",
    "        print(\"EPOCH {} ...\".format(i+1))\n",
    "        lr = sess.run(learning_rate)\n",
    "        print(\"Learning Rate: \", lr)\n",
    "        \n",
    "        X_train, y_train = shuffle(X_train, y_train)\n",
    "        for offset in range(0, num_examples, BATCH_SIZE):\n",
    "            end = offset + BATCH_SIZE\n",
    "            batch_x, batch_y = X_train[offset:end], y_train[offset:end]\n",
    "            sess.run(training_operation, feed_dict={x: batch_x, y: batch_y, keep_prob: KEEP_DROPOUT})\n",
    "            \n",
    "        training_accuracy = evaluate(X_train, y_train)\n",
    "        validation_accuracy = evaluate(X_valid, y_valid)\n",
    "\n",
    "        print(\"Training Accuracy   = {:.3f}\".format(training_accuracy))\n",
    "        print(\"Validation Accuracy = {:.3f}\".format(validation_accuracy))\n",
    "        print()\n",
    "        \n",
    "    saver.save(sess, './mylenet')\n",
    "    print(\"Model saved\")"
   ]
  },
  {
   "cell_type": "markdown",
   "metadata": {},
   "source": [
    "**DPR** Not a bad result taking into account that the original LeNet-5 model of the lab class offered a validation accuracy of only 0.88, and 0.98 is much more that the required 0.93 to pass the project."
   ]
  },
  {
   "cell_type": "markdown",
   "metadata": {},
   "source": [
    "### Evaluate Results in Validation per every class."
   ]
  },
  {
   "cell_type": "code",
   "execution_count": null,
   "metadata": {
    "collapsed": false
   },
   "outputs": [],
   "source": [
    "saver = tf.train.Saver()\n",
    "with tf.Session() as sess:\n",
    "    saver.restore(sess, './mylenet')\n",
    "    valid_images_pred = sess.run(actual_prediction,feed_dict={x:X_valid, keep_prob:1.0})"
   ]
  },
  {
   "cell_type": "markdown",
   "metadata": {},
   "source": [
    "Let's analyze this data:"
   ]
  },
  {
   "cell_type": "code",
   "execution_count": null,
   "metadata": {
    "collapsed": false,
    "deletable": true,
    "editable": true
   },
   "outputs": [],
   "source": [
    "print(len(valid_images_pred))\n",
    "print(len(y_valid))\n",
    "\n",
    "matches_correct = np.equal(valid_images_pred, y_valid)\n",
    "stats_y = np.zeros_like(y_valid)\n",
    "\n",
    "for i in range(len(matches_correct)):\n",
    "    if matches_correct[i] == True:\n",
    "        stats_y[ y_valid[i] ] += 1\n",
    "\n",
    "for i in range(n_classes):\n",
    "    total_per_class =(y_valid == i).sum()\n",
    "    print(\"class {0:3d}   n_matches: {1:3d}   Total_per_class: {2:3d}   Ratio:{3:1.2f}\"\\\n",
    "          .format(i, stats_y[i], total_per_class, stats_y[i]/total_per_class))\n"
   ]
  },
  {
   "cell_type": "markdown",
   "metadata": {},
   "source": [
    "**DPR**: The List above shows the validation results per class (how many validation images per class correctly classified. The model behaves very well across all the classes.  Only classes 0, 27 and 41 show a low accuracy of 0.90. Not coincidently, these classes had very few samples in the validation and also in the original training set. Augmentation mitigates greatly this situation (the accuracy ratios for those classes were much lower without augmentation)."
   ]
  },
  {
   "cell_type": "markdown",
   "metadata": {},
   "source": [
    "### Test the Model with test.p dataset file (as provided)"
   ]
  },
  {
   "cell_type": "code",
   "execution_count": null,
   "metadata": {
    "collapsed": false
   },
   "outputs": [],
   "source": [
    "import tensorflow as tf\n",
    "\n",
    "saver = tf.train.Saver()\n",
    "with tf.Session() as sess:\n",
    "    saver.restore(sess, './mylenet')\n",
    "    test_accuracy = evaluate(X_test, y_test)\n",
    "    print(\"Test Accuracy = {:.3f}\".format(test_accuracy))"
   ]
  },
  {
   "cell_type": "markdown",
   "metadata": {},
   "source": [
    "**DPR:** As expected, the Test Accuracy is lower that the Validation Accuracy, but still is pretty good."
   ]
  },
  {
   "cell_type": "markdown",
   "metadata": {
    "deletable": true,
    "editable": true
   },
   "source": [
    "---\n",
    "\n",
    "## Step 3: Test a Model on New Images\n",
    "\n",
    "To give yourself more insight into how your model is working, download at least five pictures of German traffic signs from the web and use your model to predict the traffic sign type.\n",
    "\n",
    "You may find `signnames.csv` useful as it contains mappings from the class id (integer) to the actual sign name."
   ]
  },
  {
   "cell_type": "markdown",
   "metadata": {
    "deletable": true,
    "editable": true
   },
   "source": [
    "### Load and Output the Images"
   ]
  },
  {
   "cell_type": "code",
   "execution_count": null,
   "metadata": {
    "collapsed": false,
    "deletable": true,
    "editable": true,
    "scrolled": false
   },
   "outputs": [],
   "source": [
    "### Load the images and plot them here.\n",
    "### Feel free to use as many code cells as needed.\n",
    "\n",
    "import os\n",
    "import numpy as np\n",
    "import cv2\n",
    "import matplotlib.image as mpimg\n",
    "import matplotlib.pyplot as plt\n",
    "from scipy.misc import imresize\n",
    "get_ipython().magic('matplotlib inline')\n",
    "\n",
    "list_images = os.listdir(\"new_images/\")\n",
    "#We exclude the images that begins with output\n",
    "list_images = [file for file in list_images if not file.startswith('output') and not file.startswith('.')]\n",
    "\n",
    "test_images = np.uint8(np.zeros((len(list_images),32,32,3)))\n",
    "\n",
    "for i in range(len(list_images)):\n",
    "    image_name = 'new_images/'+ list_images[i]\n",
    "    #image = mpimg.imread(image_name)\n",
    "    image = cv2.imread(image_name, cv2.IMREAD_COLOR)\n",
    "    print('Loading image', image_name, 'of type', type(image), 'with dimensions:', image.shape)\n",
    "    #image = imresize(image,(32,32), 'bicubic')\n",
    "    \n",
    "    b,g,r = cv2.split(image)\n",
    "    test_images[i,:,:,:] = np.asarray(cv2.merge([r,g,b]), dtype='uint8')\n",
    "    plt.figure()\n",
    "    plt.imshow(test_images[i])\n"
   ]
  },
  {
   "cell_type": "markdown",
   "metadata": {},
   "source": [
    "**DPR** I have obtained these images from Google Street View, mainly from the city of Cologne in Germany, so I think they can be considered like \"real life\" images. Some of them are quite distorted, or have distracting backgrounds, although in general are quite well illuminated "
   ]
  },
  {
   "cell_type": "markdown",
   "metadata": {
    "deletable": true,
    "editable": true
   },
   "source": [
    "### Predict the Sign Type for Each Image"
   ]
  },
  {
   "cell_type": "code",
   "execution_count": null,
   "metadata": {
    "collapsed": false,
    "deletable": true,
    "editable": true
   },
   "outputs": [],
   "source": [
    "### Run the predictions here and use the model to output the prediction for each image.\n",
    "### Make sure to pre-process the images with the same pre-processing pipeline used earlier.\n",
    "### Feel free to use as many code cells as needed.\n",
    "\n",
    "import csv\n",
    "import tensorflow as tf\n",
    "\n",
    "#read the traffic signs classes names\n",
    "with open('signnames.csv') as f:\n",
    "  reader = csv.reader(f)\n",
    "  signnames = list(reader)\n",
    "\n",
    "test_norm_images = np.zeros((len(list_images),32,32))\n",
    "\n",
    "#normalization (same as done before for the Training, Validation and Test Sets)\n",
    "for i in range(len(test_images)):\n",
    "    img = (.299*test_images[i,:,:,0] + .587*test_images[i,:,:,1] + .114*test_images[i,:,:,2])\n",
    "    img = cv2.equalizeHist(img.astype(np.uint8))\n",
    "    img = img.astype('float64')\n",
    "    img -= np.mean(img)\n",
    "    img /= np.std(img)\n",
    "    test_norm_images[i,:,:] = img\n",
    "\n",
    "# Reshape for tensorflow\n",
    "test_norm_images = test_norm_images.reshape(test_norm_images.shape+(1,))\n",
    "\n",
    "#load the saved session and perform prediction on the latest test images\n",
    "saver = tf.train.Saver()\n",
    "with tf.Session() as sess:\n",
    "    saver.restore(sess, './mylenet')\n",
    "    test_images_pred = sess.run(actual_prediction, feed_dict={x: test_norm_images, keep_prob:1.0})\n",
    "\n",
    "print(\"Predictions obtained. Please continue executing next cells.\")"
   ]
  },
  {
   "cell_type": "markdown",
   "metadata": {
    "deletable": true,
    "editable": true
   },
   "source": [
    "### Analyze Performance"
   ]
  },
  {
   "cell_type": "code",
   "execution_count": null,
   "metadata": {
    "collapsed": false
   },
   "outputs": [],
   "source": [
    "### Calculate the accuracy for these 5 new images. \n",
    "### For example, if the model predicted 1 out of 5 signs correctly, it's 20% accurate on these new images.\n",
    "\n",
    "correct_classes_test = [40, 28, 35, 18, 4]\n",
    "correct_labels_test = []\n",
    "predicted_labels_test = []\n",
    "\n",
    "for id in correct_classes_test:\n",
    "    correct_labels_test.append((signnames[id+1][1]))\n",
    "for id in test_images_pred:\n",
    "    predicted_labels_test.append((signnames[id+1][1]))\n",
    "\n",
    "i_image=0\n",
    "for pred,correct in zip(predicted_labels_test, correct_labels_test):\n",
    "    print(\"Image {0:1d} - Predicted Signal:{1:20s},  Actual Signal:{2:20s}\".format(i_image,pred,correct))\n",
    "    i_image+=1\n",
    "\n",
    "print(\"Accuracy of the 5 New Images set: \", \\\n",
    "      (test_images_pred == correct_classes_test).sum()/len(test_images_pred))\n"
   ]
  },
  {
   "cell_type": "markdown",
   "metadata": {},
   "source": [
    "**DPR**: There is some variability depending on the Training execution, which is a semi-random process. Usually Images 0 to 3 are always correctly classified, and Image 4 is usually mistaken because of the similarity of numbers 20 and 70."
   ]
  },
  {
   "cell_type": "markdown",
   "metadata": {
    "deletable": true,
    "editable": true
   },
   "source": [
    "### Output Top 5 Softmax Probabilities For Each Image Found on the Web"
   ]
  },
  {
   "cell_type": "markdown",
   "metadata": {
    "deletable": true,
    "editable": true
   },
   "source": [
    "For each of the new images, print out the model's softmax probabilities to show the **certainty** of the model's predictions (limit the output to the top 5 probabilities for each image). [`tf.nn.top_k`](https://www.tensorflow.org/versions/r0.12/api_docs/python/nn.html#top_k) could prove helpful here. \n",
    "\n",
    "The example below demonstrates how tf.nn.top_k can be used to find the top k predictions for each image.\n",
    "\n",
    "`tf.nn.top_k` will return the values and indices (class ids) of the top k predictions. So if k=3, for each sign, it'll return the 3 largest probabilities (out of a possible 43) and the correspoding class ids.\n",
    "\n",
    "Take this numpy array as an example. The values in the array represent predictions. The array contains softmax probabilities for five candidate images with six possible classes. `tk.nn.top_k` is used to choose the three classes with the highest probability:\n",
    "\n",
    "```\n",
    "# (5, 6) array\n",
    "a = np.array([[ 0.24879643,  0.07032244,  0.12641572,  0.34763842,  0.07893497,\n",
    "         0.12789202],\n",
    "       [ 0.28086119,  0.27569815,  0.08594638,  0.0178669 ,  0.18063401,\n",
    "         0.15899337],\n",
    "       [ 0.26076848,  0.23664738,  0.08020603,  0.07001922,  0.1134371 ,\n",
    "         0.23892179],\n",
    "       [ 0.11943333,  0.29198961,  0.02605103,  0.26234032,  0.1351348 ,\n",
    "         0.16505091],\n",
    "       [ 0.09561176,  0.34396535,  0.0643941 ,  0.16240774,  0.24206137,\n",
    "         0.09155967]])\n",
    "```\n",
    "\n",
    "Running it through `sess.run(tf.nn.top_k(tf.constant(a), k=3))` produces:\n",
    "\n",
    "```\n",
    "TopKV2(values=array([[ 0.34763842,  0.24879643,  0.12789202],\n",
    "       [ 0.28086119,  0.27569815,  0.18063401],\n",
    "       [ 0.26076848,  0.23892179,  0.23664738],\n",
    "       [ 0.29198961,  0.26234032,  0.16505091],\n",
    "       [ 0.34396535,  0.24206137,  0.16240774]]), indices=array([[3, 0, 5],\n",
    "       [0, 1, 4],\n",
    "       [0, 5, 1],\n",
    "       [1, 3, 5],\n",
    "       [1, 4, 3]], dtype=int32))\n",
    "```\n",
    "\n",
    "Looking just at the first row we get `[ 0.34763842,  0.24879643,  0.12789202]`, you can confirm these are the 3 largest probabilities in `a`. You'll also notice `[3, 0, 5]` are the corresponding indices."
   ]
  },
  {
   "cell_type": "code",
   "execution_count": null,
   "metadata": {
    "collapsed": false,
    "deletable": true,
    "editable": true
   },
   "outputs": [],
   "source": [
    "### Print out the top five softmax probabilities for the predictions on the German traffic sign images found on the web. \n",
    "### Feel free to use as many code cells as needed.\n",
    "\n",
    "#predict the top 5 labels for each test image\n",
    "saver = tf.train.Saver()\n",
    "with tf.Session() as sess:\n",
    "    saver.restore(sess, './mylenet')\n",
    "    top_5_pred = sess.run(tf.nn.top_k(tf.nn.softmax(logits), 5), feed_dict={x: test_norm_images, keep_prob: 1.0})"
   ]
  },
  {
   "cell_type": "code",
   "execution_count": null,
   "metadata": {
    "collapsed": false
   },
   "outputs": [],
   "source": [
    "print(type(top_5_pred))\n",
    "\n",
    "plt.figure(figsize=(16, 21))\n",
    "for i in range(5):\n",
    "    plt.subplot(5, 2, 2*i+1)\n",
    "    plt.imshow(test_images[i], cmap='gray') \n",
    "    plt.title(i)\n",
    "    plt.axis('off')\n",
    "    plt.subplot(5, 2, 2*i+2)\n",
    "    plt.barh(np.arange(1, 6, 1), top_5_pred.values[i, :])\n",
    "    labs=[signnames[j+1][1] for j in top_5_pred.indices[i]]\n",
    "    plt.yticks(np.arange(1, 6, 1), labs)\n",
    "plt.show()"
   ]
  },
  {
   "cell_type": "markdown",
   "metadata": {},
   "source": [
    "**DPR**: We see that the classifier is VERY sure of the first 4 images, but has serious doubts with the 70Km/h speed limit signal. The correct answer shows 3rd in the softmax probs.  A better model or the same model tuned for number recognition would probably improve these results. Also using colour instead of only Y illumination component would probably help (though not with this model.)"
   ]
  },
  {
   "cell_type": "markdown",
   "metadata": {
    "deletable": true,
    "editable": true
   },
   "source": [
    "---\n",
    "\n",
    "## Step 4: Visualize the Neural Network's State with Test Images\n",
    "\n",
    " This Section is not required to complete but acts as an additional excersise for understaning the output of a neural network's weights. While neural networks can be a great learning device they are often referred to as a black box. We can understand what the weights of a neural network look like better by plotting their feature maps. After successfully training your neural network you can see what it's feature maps look like by plotting the output of the network's weight layers in response to a test stimuli image. From these plotted feature maps, it's possible to see what characteristics of an image the network finds interesting. For a sign, maybe the inner network feature maps react with high activation to the sign's boundary outline or to the contrast in the sign's painted symbol.\n",
    "\n",
    " Provided for you below is the function code that allows you to get the visualization output of any tensorflow weight layer you want. The inputs to the function should be a stimuli image, one used during training or a new one you provided, and then the tensorflow variable name that represents the layer's state during the training process, for instance if you wanted to see what the [LeNet lab's](https://classroom.udacity.com/nanodegrees/nd013/parts/fbf77062-5703-404e-b60c-95b78b2f3f9e/modules/6df7ae49-c61c-4bb2-a23e-6527e69209ec/lessons/601ae704-1035-4287-8b11-e2c2716217ad/concepts/d4aca031-508f-4e0b-b493-e7b706120f81) feature maps looked like for it's second convolutional layer you could enter conv2 as the tf_activation variable.\n",
    "\n",
    "For an example of what feature map outputs look like, check out NVIDIA's results in their paper [End-to-End Deep Learning for Self-Driving Cars](https://devblogs.nvidia.com/parallelforall/deep-learning-self-driving-cars/) in the section Visualization of internal CNN State. NVIDIA was able to show that their network's inner weights had high activations to road boundary lines by comparing feature maps from an image with a clear path to one without. Try experimenting with a similar test to show that your trained network's weights are looking for interesting features, whether it's looking at differences in feature maps from images with or without a sign, or even what feature maps look like in a trained network vs a completely untrained one on the same sign image.\n",
    "\n",
    "<figure>\n",
    " <img src=\"visualize_cnn.png\" width=\"380\" alt=\"Combined Image\" />\n",
    " <figcaption>\n",
    " <p></p> \n",
    " <p style=\"text-align: center;\"> Your output should look something like this (above)</p> \n",
    " </figcaption>\n",
    "</figure>\n",
    " <p></p> \n"
   ]
  },
  {
   "cell_type": "code",
   "execution_count": null,
   "metadata": {
    "collapsed": false,
    "deletable": true,
    "editable": true,
    "scrolled": false
   },
   "outputs": [],
   "source": [
    "### Visualize your network's feature maps here.\n",
    "### Feel free to use as many code cells as needed.\n",
    "\n",
    "# image_input: the test image being fed into the network to produce the feature maps\n",
    "# tf_activation: should be a tf TENSOR name used during your training procedure that represents the calculated state of a specific weight layer\n",
    "# activation_min/max: can be used to view the activation contrast in more detail, by default matplot sets min and max to the actual min and max values of the output\n",
    "# plt_num: used to plot out multiple different weight feature map sets on the same block, just extend the plt number for each new feature map entry\n",
    "\n",
    "def outputFeatureMap(image_input, index, tf_activation, activation_min=-1, activation_max=-1 ,plt_num=1):\n",
    "    # Here make sure to preprocess your image_input in a way your network expects\n",
    "    # with size, normalization, ect if needed\n",
    "    # image_input =\n",
    "    # Note: x should be the same name as your network's tensorflow data placeholder variable\n",
    "    # If you get an error tf_activation is not defined it maybe having trouble accessing the variable from inside a function\n",
    "\n",
    "    activation = tf_activation.eval(session=sess,feed_dict={x : image_input})\n",
    "    #activation = sess.run(tf_activation, feed_dict={x : image_input, keep_prob:1.0})\n",
    "    \n",
    "    #print(activation.shape)\n",
    "    featuremaps = activation.shape[3]\n",
    "    \n",
    "    #print(activation[0,:,:, 10])\n",
    "    \n",
    "    plt.figure(plt_num, figsize=(15,15))\n",
    "    for featuremap in range(featuremaps):\n",
    "        plt.subplot(6,8, featuremap+1) # sets the number of feature maps to show on each row and column\n",
    "        plt.title('FeatureMap ' + str(featuremap)) # displays the feature map number\n",
    "        if activation_min != -1 & activation_max != -1:\n",
    "            plt.imshow(activation[index,:,:, featuremap], interpolation=\"nearest\", vmin =activation_min, vmax=activation_max, cmap=\"gray\")\n",
    "        elif activation_max != -1:\n",
    "            plt.imshow(activation[index,:,:, featuremap], interpolation=\"nearest\", vmax=activation_max, cmap=\"gray\")\n",
    "        elif activation_min !=-1:\n",
    "            plt.imshow(activation[index,:,:, featuremap], interpolation=\"nearest\", vmin=activation_min, cmap=\"gray\")\n",
    "        else:\n",
    "            plt.imshow(activation[index,:,:, featuremap], interpolation=\"nearest\", cmap=\"gray\")\n",
    "\n",
    "\n",
    "#for v in tf.trainable_variables():\n",
    "#    print(v.name)\n",
    "\n",
    "saver = tf.train.Saver()\n",
    "with tf.Session() as sess:\n",
    "    saver.restore(sess, './mylenet')\n",
    "    \n",
    "    ### Note: When conv1_relu and conv2_rely only existed inside the MyLeNet function namespace, they could \n",
    "    ### still be accessed (apparently) using the get_tensor_by_name function, and everything executed without an error.\n",
    "    ### HOWEVER, the tensor output was everything zeros, so all the plots were black.\n",
    "    ### I was not been able to solve this issue, so now conv1_relu and conv2_relu are return parameters of the model.\n",
    "    ### I could do simply:\n",
    "    #   outputFeatureMap(test_norm_images, 3, conv1_relu)\n",
    "    \n",
    "    layer = tf.get_default_graph().get_tensor_by_name(\"conv1_relu:0\")\n",
    "    \n",
    "    for i in range(len(test_norm_images)):\n",
    "        outputFeatureMap(test_norm_images, i, layer, -1,-1, i)\n",
    "\n",
    "\n"
   ]
  },
  {
   "cell_type": "markdown",
   "metadata": {},
   "source": [
    "**DPR - Note**: When conv1_relu and conv2_rely only existed inside the MyLeNet function namespace, they could \n",
    "still be accessed (apparently) using the get_tensor_by_name function, and everything executed without an error.\n",
    "HOWEVER, the tensor output was everything zeros, so all the plots were black.\n",
    "I was not been able to solve this issue, so now conv1_relu and conv2_relu are return parameters of the model.\n",
    "I could do simply:\n",
    "`outputFeatureMap(test_norm_images, 3, conv1_relu)`"
   ]
  },
  {
   "cell_type": "markdown",
   "metadata": {
    "deletable": true,
    "editable": true
   },
   "source": [
    "### Question 9\n",
    "\n",
    "Discuss how you used the visual output of your trained network's feature maps to show that it had learned to look for interesting characteristics in traffic sign images\n"
   ]
  },
  {
   "cell_type": "markdown",
   "metadata": {},
   "source": [
    "**DPR:** It is very interesting how the first CONV layer output extracts the feature maps of the 5 test signals. And more interestingly even for me, is how each feature number across the 5 test signals seems to focus in some specific common feature. For example Feature 0 seems to focus on \"left borders\" while Feature 8 seems to focus on \"top-right\" borders.\n",
    "\n",
    "This also demonstrates that the MyLeNet network learned to detect useful traffic sign features on its own. We never explicitly trained it to detect the signal's round or triangular shapes, numbers, figures, etc."
   ]
  },
  {
   "cell_type": "markdown",
   "metadata": {
    "deletable": true,
    "editable": true
   },
   "source": [
    "**Answer:**"
   ]
  },
  {
   "cell_type": "markdown",
   "metadata": {
    "deletable": true,
    "editable": true
   },
   "source": [
    "> **Note**: Once you have completed all of the code implementations and successfully answered each question above, you may finalize your work by exporting the iPython Notebook as an HTML document. You can do this by using the menu above and navigating to  \\n\",\n",
    "    \"**File -> Download as -> HTML (.html)**. Include the finished document along with this notebook as your submission."
   ]
  },
  {
   "cell_type": "markdown",
   "metadata": {
    "deletable": true,
    "editable": true
   },
   "source": [
    "### Project Writeup\n",
    "\n",
    "Once you have completed the code implementation, document your results in a project writeup using this [template](https://github.com/udacity/CarND-Traffic-Sign-Classifier-Project/blob/master/writeup_template.md) as a guide. The writeup can be in a markdown or pdf file. "
   ]
  }
 ],
 "metadata": {
  "anaconda-cloud": {},
  "kernelspec": {
   "display_name": "Python 3",
   "language": "python",
   "name": "python3"
  },
  "language_info": {
   "codemirror_mode": {
    "name": "ipython",
    "version": 3
   },
   "file_extension": ".py",
   "mimetype": "text/x-python",
   "name": "python",
   "nbconvert_exporter": "python",
   "pygments_lexer": "ipython3",
   "version": "3.5.2"
  },
  "widgets": {
   "state": {},
   "version": "1.1.2"
  }
 },
 "nbformat": 4,
 "nbformat_minor": 1
}
